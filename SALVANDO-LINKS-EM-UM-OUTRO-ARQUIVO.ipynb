{
 "cells": [
  {
   "cell_type": "markdown",
   "metadata": {},
   "source": [
    "# Manipulação de arquivos com Python"
   ]
  },
  {
   "cell_type": "markdown",
   "metadata": {},
   "source": [
    "Script em python utilizando o jupyter notebook para copiar uma linha específica de um arquivo e copiar para outro aquivo .txt renomeando cada execução com a data e hora atual."
   ]
  },
  {
   "cell_type": "code",
   "execution_count": null,
   "metadata": {},
   "outputs": [],
   "source": [
    "import glob\n",
    "import os\n",
    "\n",
    "path = 'excel/'\n",
    "from datetime import datetime\n",
    "\n",
    "data_e_hora_atuais = datetime.now()\n",
    "data_e_hora_em_texto = data_e_hora_atuais.strftime('%d-%m-%Y %H-%M-%S')\n",
    "\n",
    "#in_file = \"excel/novo_html.html\" #buscar esse tipo de extensão e copiar os termos especificados\n",
    "\n",
    "out_file = (\"excel/links-extraidos-\"+(data_e_hora_em_texto)+\".txt\") # arquivo destino que será criado com a data e hora atual\n",
    " \n",
    "search_for = '.xlsm' #termo 1 que eu quero encontrar\n",
    "search_for2 = '.zip' #termo 2 que eu quero encontrar\n",
    "search_for3 = '.xlsx'  #termo 3 que eu quero encontrar\n",
    "line_num = 0\n",
    "lines_found = 0\n",
    "\n",
    "with open(out_file, 'w', encoding=\"utf8\") as out_f: # abre o arquivo de saida uma vez e grava a leitura e escrita dos arquivos com extensao .html\n",
    "    for filename in glob.glob(os.path.join(path, '*.html')):\n",
    "        with open(filename, \"r\", encoding=\"utf8\") as in_f:\n",
    "            for line in in_f:\n",
    "                line_num += 1\n",
    "                if search_for in line:\n",
    "                    lines_found += 1\n",
    "                    print(\"Found '{}' in line {}...\".format(search_for, line_num))\n",
    "                    out_f.write(line)\n",
    "                if search_for2 in line:\n",
    "                    lines_found += 1\n",
    "                    print(\"Found '{}' in line {}...\".format(search_for2, line_num))\n",
    "                    out_f.write(line)\n",
    "                if search_for3 in line:\n",
    "                    lines_found += 1\n",
    "                    print(\"Found '{}' in line {}...\".format(search_for3, line_num))\n",
    "                    out_f.write(line)\n",
    "            print(\"Found {} lines...\".format(lines_found))"
   ]
  }
 ],
 "metadata": {
  "kernelspec": {
   "display_name": "Python 3",
   "language": "python",
   "name": "python3"
  },
  "language_info": {
   "codemirror_mode": {
    "name": "ipython",
    "version": 3
   },
   "file_extension": ".py",
   "mimetype": "text/x-python",
   "name": "python",
   "nbconvert_exporter": "python",
   "pygments_lexer": "ipython3",
   "version": "3.8.3"
  }
 },
 "nbformat": 4,
 "nbformat_minor": 4
}
